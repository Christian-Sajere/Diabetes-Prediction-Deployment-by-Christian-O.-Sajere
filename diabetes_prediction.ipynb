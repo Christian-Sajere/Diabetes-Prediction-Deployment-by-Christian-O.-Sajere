{
 "cells": [
  {
   "cell_type": "code",
   "execution_count": 170,
   "id": "1bf65d03",
   "metadata": {},
   "outputs": [],
   "source": [
    "import warnings\n",
    "warnings.filterwarnings('ignore')"
   ]
  },
  {
   "cell_type": "code",
   "execution_count": 171,
   "id": "76d6652e",
   "metadata": {},
   "outputs": [],
   "source": [
    "#import libraries\n",
    "import numpy as np\n",
    "import pandas as pd\n",
    "import matplotlib.pyplot as plt\n",
    "import seaborn as sns\n",
    "\n",
    "import ipywidgets as widgets\n",
    "from ipywidgets import HTML\n",
    "from IPython.display import display, clear_output"
   ]
  },
  {
   "cell_type": "code",
   "execution_count": 172,
   "id": "6be172f7",
   "metadata": {},
   "outputs": [],
   "source": [
    "#load the data\n",
    "df=pd.read_csv('New folder/diabetes.csv')"
   ]
  },
  {
   "cell_type": "code",
   "execution_count": 173,
   "id": "ca3ae9c2",
   "metadata": {},
   "outputs": [],
   "source": [
    "#df.head(7)"
   ]
  },
  {
   "cell_type": "code",
   "execution_count": 174,
   "id": "33f113d6",
   "metadata": {},
   "outputs": [],
   "source": [
    "#split the dataset into independent (X) and dependent column (Y) data sets.\n",
    "#Y has the dagonostic whether the patient have cancer or not.While X have the features for cancer detection\n",
    "X = df.iloc[:,1:8].values\n",
    "Y=df.iloc[:,8].values\n"
   ]
  },
  {
   "cell_type": "code",
   "execution_count": 175,
   "id": "13e6c3f3",
   "metadata": {},
   "outputs": [],
   "source": [
    "#Split the dataset into 75% training and 25% testing\n",
    "from sklearn.model_selection import train_test_split\n",
    "X_train, X_test, Y_train, Y_test=train_test_split(X, Y, test_size=0.25 ,random_state =0)"
   ]
  },
  {
   "cell_type": "code",
   "execution_count": 176,
   "id": "be867b4b",
   "metadata": {},
   "outputs": [],
   "source": [
    "#Scale the data (Feature scaling)\n",
    "from sklearn.preprocessing import StandardScaler\n",
    "sc=StandardScaler()\n",
    "X_train=sc.fit_transform(X_train)\n",
    "X_test=sc.fit_transform(X_test)"
   ]
  },
  {
   "cell_type": "code",
   "execution_count": 177,
   "id": "9184495b",
   "metadata": {},
   "outputs": [],
   "source": [
    "#create a function for the models\n",
    "def models(X_train, Y_train):\n",
    "    \n",
    "    #logistic Regression\n",
    "    from sklearn.linear_model import LogisticRegression\n",
    "    log=LogisticRegression(random_state=0)\n",
    "    log.fit(X_train, Y_train)\n",
    "    \n",
    "    #Decision Tree classicifier\n",
    "    from sklearn.tree import DecisionTreeClassifier\n",
    "    tree=DecisionTreeClassifier(criterion= 'entropy', random_state=0)\n",
    "    tree.fit(X_train,Y_train)\n",
    "    \n",
    "    #Random Forest Classifier\n",
    "    from sklearn.ensemble import RandomForestClassifier\n",
    "    forest= RandomForestClassifier(n_estimators = 10, criterion='entropy', random_state=0)\n",
    "    forest.fit(X_train,Y_train)\n",
    "    \n",
    "    #Print the models Accuracy of the data\n",
    "    print('[0] Logistic Regression training accuracy:',log.score(X_train, Y_train))\n",
    "    print('[1] Decision Tree training accuracy:',tree.score(X_train, Y_train))\n",
    "    print('[2] Random Forest Classifier training accuracy:',forest.score(X_train, Y_train))\n",
    "    \n",
    "    return log, tree,forest"
   ]
  },
  {
   "cell_type": "code",
   "execution_count": 178,
   "id": "bf4ddcb3",
   "metadata": {},
   "outputs": [
    {
     "name": "stdout",
     "output_type": "stream",
     "text": [
      "images downloaded from pixabay\n"
     ]
    },
    {
     "data": {
      "application/vnd.jupyter.widget-view+json": {
       "model_id": "464d4329b28f4329a43283ce433e8f49",
       "version_major": 2,
       "version_minor": 0
      },
      "text/plain": [
       "Image(value=b'\\xff\\xd8\\xff\\xe0\\x00\\x10JFIF\\x00\\x01\\x01\\x00\\x00\\x01\\x00\\x01\\x00\\x00\\xff\\xdb\\x00C\\x00\\x03\\x02\\x0…"
      ]
     },
     "metadata": {},
     "output_type": "display_data"
    },
    {
     "data": {
      "application/vnd.jupyter.widget-view+json": {
       "model_id": "a528459a1d794f9ab6410ccdf19e1e0d",
       "version_major": 2,
       "version_minor": 0
      },
      "text/plain": [
       "HTML(value='<h1>Diabetics Prediction Software</h1>')"
      ]
     },
     "metadata": {},
     "output_type": "display_data"
    }
   ],
   "source": [
    "images=open('diabetes-4948861_1920.jpg','rb').read()\n",
    "wi1 = widgets.Image(value=images, format='png', width=300, height=400)\n",
    "print(\"images downloaded from pixabay\")\n",
    "h1=HTML(value='<h1>Diabetics Prediction Software</h1>')\n",
    "display(wi1,h1)\n"
   ]
  },
  {
   "cell_type": "code",
   "execution_count": 179,
   "id": "24da878b",
   "metadata": {},
   "outputs": [
    {
     "name": "stdout",
     "output_type": "stream",
     "text": [
      "[0] Logistic Regression training accuracy: 0.7725694444444444\n",
      "[1] Decision Tree training accuracy: 1.0\n",
      "[2] Random Forest Classifier training accuracy: 0.9809027777777778\n"
     ]
    }
   ],
   "source": [
    "# here we will be getting of the models\n",
    "model = models(X_train, Y_train)"
   ]
  },
  {
   "cell_type": "code",
   "execution_count": 180,
   "id": "1df775ed",
   "metadata": {},
   "outputs": [],
   "source": [
    "#Show another way to get metrics of the models\n",
    "#from sklearn.metrics import classification_report\n",
    "#from sklearn.metrics import accuracy_score\n",
    "\n",
    "#for i in range (len (model)): \n",
    "#    print('Model',i)\n",
    " #   print(classification_report(Y_test, model[i].predict(X_test)))\n",
    " #   print(accuracy_score(Y_test, model[i].predict(X_test)))\n",
    " #   print()\n",
    "    "
   ]
  },
  {
   "cell_type": "code",
   "execution_count": 181,
   "id": "cda8168c",
   "metadata": {},
   "outputs": [],
   "source": [
    "#Print the prediction of the Radmon Forest Classifer Model\n",
    "#pred = model[1].predict(X_test)\n",
    "#print(pred)\n",
    "#print()\n",
    "#print(Y_test)"
   ]
  },
  {
   "cell_type": "code",
   "execution_count": 182,
   "id": "f49b0c38",
   "metadata": {},
   "outputs": [
    {
     "data": {
      "application/vnd.jupyter.widget-view+json": {
       "model_id": "d451370613de4294ad5f6f9303649a13",
       "version_major": 2,
       "version_minor": 0
      },
      "text/plain": [
       "Label(value='How many month pregnant ? Leave it at 0 if you are not pregnant.')"
      ]
     },
     "metadata": {},
     "output_type": "display_data"
    },
    {
     "data": {
      "application/vnd.jupyter.widget-view+json": {
       "model_id": "8eba6c8e23c0438b95e6976267544e24",
       "version_major": 2,
       "version_minor": 0
      },
      "text/plain": [
       "FloatText(value=0.0)"
      ]
     },
     "metadata": {},
     "output_type": "display_data"
    },
    {
     "data": {
      "application/vnd.jupyter.widget-view+json": {
       "model_id": "c67f66301d35425d8135c7e3593b1ae6",
       "version_major": 2,
       "version_minor": 0
      },
      "text/plain": [
       "Label(value='What is the Glucose Level?')"
      ]
     },
     "metadata": {},
     "output_type": "display_data"
    },
    {
     "data": {
      "application/vnd.jupyter.widget-view+json": {
       "model_id": "0ea616ffd5c6472491d164d3723b5e2e",
       "version_major": 2,
       "version_minor": 0
      },
      "text/plain": [
       "FloatText(value=0.0)"
      ]
     },
     "metadata": {},
     "output_type": "display_data"
    },
    {
     "data": {
      "application/vnd.jupyter.widget-view+json": {
       "model_id": "db7f6351deee47eaac5bc5a59b1ba822",
       "version_major": 2,
       "version_minor": 0
      },
      "text/plain": [
       "Label(value='What is the blood pressure?')"
      ]
     },
     "metadata": {},
     "output_type": "display_data"
    },
    {
     "data": {
      "application/vnd.jupyter.widget-view+json": {
       "model_id": "706ce3d6a7f34b4f82857ab17daf6ba3",
       "version_major": 2,
       "version_minor": 0
      },
      "text/plain": [
       "FloatText(value=0.0)"
      ]
     },
     "metadata": {},
     "output_type": "display_data"
    },
    {
     "data": {
      "application/vnd.jupyter.widget-view+json": {
       "model_id": "7f494adce90248e9a34e63b49c0e53ed",
       "version_major": 2,
       "version_minor": 0
      },
      "text/plain": [
       "Label(value='What is the skin thinkness?')"
      ]
     },
     "metadata": {},
     "output_type": "display_data"
    },
    {
     "data": {
      "application/vnd.jupyter.widget-view+json": {
       "model_id": "e7797bb454d54c72b9002f92a2460a9c",
       "version_major": 2,
       "version_minor": 0
      },
      "text/plain": [
       "FloatText(value=0.0)"
      ]
     },
     "metadata": {},
     "output_type": "display_data"
    },
    {
     "data": {
      "application/vnd.jupyter.widget-view+json": {
       "model_id": "4ffba28a86884d3c8b5af36aa36451db",
       "version_major": 2,
       "version_minor": 0
      },
      "text/plain": [
       "Label(value='What is the the level of Insulin?')"
      ]
     },
     "metadata": {},
     "output_type": "display_data"
    },
    {
     "data": {
      "application/vnd.jupyter.widget-view+json": {
       "model_id": "35c0958b07bb4b56ac9081dc51369516",
       "version_major": 2,
       "version_minor": 0
      },
      "text/plain": [
       "FloatText(value=0.0)"
      ]
     },
     "metadata": {},
     "output_type": "display_data"
    },
    {
     "data": {
      "application/vnd.jupyter.widget-view+json": {
       "model_id": "4ffba28a86884d3c8b5af36aa36451db",
       "version_major": 2,
       "version_minor": 0
      },
      "text/plain": [
       "Label(value='What is the the level of Insulin?')"
      ]
     },
     "metadata": {},
     "output_type": "display_data"
    },
    {
     "data": {
      "application/vnd.jupyter.widget-view+json": {
       "model_id": "6d6ea56f28154e74b448a39b328fe494",
       "version_major": 2,
       "version_minor": 0
      },
      "text/plain": [
       "FloatText(value=0.0)"
      ]
     },
     "metadata": {},
     "output_type": "display_data"
    },
    {
     "data": {
      "application/vnd.jupyter.widget-view+json": {
       "model_id": "d290730b576a4ba194ed68c75d85a1f2",
       "version_major": 2,
       "version_minor": 0
      },
      "text/plain": [
       "Label(value='What is the DiabetesPedigreeFunction value?')"
      ]
     },
     "metadata": {},
     "output_type": "display_data"
    },
    {
     "data": {
      "application/vnd.jupyter.widget-view+json": {
       "model_id": "269c129a0b8f46f3a0376b557e5bc327",
       "version_major": 2,
       "version_minor": 0
      },
      "text/plain": [
       "FloatText(value=0.0)"
      ]
     },
     "metadata": {},
     "output_type": "display_data"
    },
    {
     "data": {
      "application/vnd.jupyter.widget-view+json": {
       "model_id": "0c0dafd2faab4e0e8285f558ea193dbd",
       "version_major": 2,
       "version_minor": 0
      },
      "text/plain": [
       "Label(value='Age of the person ?')"
      ]
     },
     "metadata": {},
     "output_type": "display_data"
    },
    {
     "data": {
      "application/vnd.jupyter.widget-view+json": {
       "model_id": "c1db9e6156f3441f900f6a3cd4920184",
       "version_major": 2,
       "version_minor": 0
      },
      "text/plain": [
       "FloatText(value=0.0)"
      ]
     },
     "metadata": {},
     "output_type": "display_data"
    }
   ],
   "source": [
    "\n",
    "\n",
    "\n",
    "Pregnanciestext=widgets.Label('How many month pregnant ? Leave it at 0 if you are not pregnant.') \n",
    "Pregnancies=widgets.FloatText(value=0)\n",
    "display(Pregnanciestext,Pregnancies)\n",
    "\n",
    "Glucosetext=widgets.Label('What is the Glucose Level?')                  \n",
    "Glucose=widgets.FloatText(value=0)\n",
    "display(Glucosetext,Glucose)\n",
    "\n",
    "BloodPressuretext=widgets.Label('What is the blood pressure?')                  \n",
    "BloodPressure=widgets.FloatText(value=0)\n",
    "display(BloodPressuretext,BloodPressure)\n",
    "\n",
    "SkinThicknesstext=widgets.Label('What is the skin thinkness?')                  \n",
    "SkinThickness=widgets.FloatText(value=0)\n",
    "display(SkinThicknesstext,SkinThickness)\n",
    "\n",
    "\n",
    "Insulintext=widgets.Label('What is the the level of Insulin?')                  \n",
    "Insulin=widgets.FloatText(value=0)\n",
    "display(Insulintext,Insulin)\n",
    "\n",
    "BMItext=widgets.Label('What is the BMI value?')                  \n",
    "BMI=widgets.FloatText(value=0)\n",
    "display(BMItext,BMI)\n",
    "\n",
    "DiabetesPedigreeFunctiontext=widgets.Label('What is the DiabetesPedigreeFunction value?')                  \n",
    "DiabetesPedigreeFunction=widgets.FloatText(value=0)\n",
    "display(DiabetesPedigreeFunctiontext,DiabetesPedigreeFunction)\n",
    "\n",
    "Agetext=widgets.Label('Age of the person ?')                  \n",
    "Age=widgets.FloatText(value=0)\n",
    "display(Agetext,Age)\n",
    "\n",
    "\n",
    "\n"
   ]
  },
  {
   "cell_type": "code",
   "execution_count": 183,
   "id": "40788955",
   "metadata": {},
   "outputs": [],
   "source": [
    "Pregnancies=Pregnancies.value\n",
    "           \n",
    "Glucose=Glucose.value\n",
    "             \n",
    "BloodPressure=BloodPressure.value\n",
    "\n",
    "SkinThickness=SkinThickness.value\n",
    "\n",
    "Insulin=Insulin.value\n",
    "\n",
    "BMI=BMI.value\n",
    "\n",
    "DiabetesPedigreeFunction=DiabetesPedigreeFunction.value\n",
    "\n",
    "Age=Age.value\n",
    "\n",
    "\n",
    "\n",
    "\n",
    "arr={'Pregnancies':[Pregnancies],'Glucose':[Glucose],'BloodPressure':[BloodPressure],'SkinThickness':[SkinThickness],\n",
    "     'Insulin':[Insulin],'BMI':[BMI],'DiabetesPedigreeFunction':[DiabetesPedigreeFunction],'Age':[Age]}\n",
    "\n",
    "dg=pd.DataFrame(arr)"
   ]
  },
  {
   "cell_type": "code",
   "execution_count": 184,
   "id": "3ee797bf",
   "metadata": {},
   "outputs": [],
   "source": [
    "#split the dataset into independent (X) and dependent column (Y) data sets.\n",
    "#Y has the dagonostic whether the patient have cancer or not.While X have the features for cancer detection\n",
    "X = df.iloc[:,1:8].values\n",
    "Y=df.iloc[:,8].values"
   ]
  },
  {
   "cell_type": "code",
   "execution_count": 185,
   "id": "253e5a83",
   "metadata": {},
   "outputs": [],
   "source": [
    "#Show another way to get metrics of the models\n",
    "from sklearn.metrics import classification_report\n",
    "from sklearn.metrics import accuracy_score"
   ]
  },
  {
   "cell_type": "code",
   "execution_count": 189,
   "id": "71c1584b",
   "metadata": {},
   "outputs": [
    {
     "data": {
      "application/vnd.jupyter.widget-view+json": {
       "model_id": "d8962031829642d0ae474bbba6c48ed5",
       "version_major": 2,
       "version_minor": 0
      },
      "text/plain": [
       "VBox(children=(Button(description='Press Enter', style=ButtonStyle(button_color='skyblue')), Output()))"
      ]
     },
     "metadata": {},
     "output_type": "display_data"
    }
   ],
   "source": [
    "from ipywidgets import Button, GridBox, Layout, ButtonStyle\n",
    "\n",
    "button = widgets.Button(description='Press Enter')\n",
    "button.style.button_color = 'skyblue'\n",
    "out = widgets.Output()\n",
    "def on_button_clicked(_):\n",
    "      # \"linking function with output\"\n",
    "      with out:\n",
    "          # what happens when we press the button\n",
    "          clear_output()\n",
    "          print('You Entered in the following Values')\n",
    "          display(dg)\n",
    "          for i in range (len (model)): \n",
    "           # print('Model',i)\n",
    "            print(classification_report(Y, model[i].predict(X)))\n",
    "            print(accuracy_score(Y, model[i].predict(X)))\n",
    "            print()\n",
    "# linking button and function together using a button's method\n",
    "button.on_click(on_button_clicked)\n",
    "# displaying button and its output together\n",
    "widgets.VBox([button,out])"
   ]
  },
  {
   "cell_type": "code",
   "execution_count": null,
   "id": "4f060a90",
   "metadata": {},
   "outputs": [],
   "source": []
  },
  {
   "cell_type": "code",
   "execution_count": null,
   "id": "fb0c3b53",
   "metadata": {},
   "outputs": [],
   "source": []
  }
 ],
 "metadata": {
  "kernelspec": {
   "display_name": "Python 3",
   "language": "python",
   "name": "python3"
  },
  "language_info": {
   "codemirror_mode": {
    "name": "ipython",
    "version": 3
   },
   "file_extension": ".py",
   "mimetype": "text/x-python",
   "name": "python",
   "nbconvert_exporter": "python",
   "pygments_lexer": "ipython3",
   "version": "3.8.3"
  }
 },
 "nbformat": 4,
 "nbformat_minor": 5
}
